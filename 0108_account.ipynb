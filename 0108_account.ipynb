{
  "nbformat": 4,
  "nbformat_minor": 0,
  "metadata": {
    "colab": {
      "provenance": []
    },
    "kernelspec": {
      "name": "python3",
      "display_name": "Python 3"
    },
    "language_info": {
      "name": "python"
    }
  },
  "cells": [
    {
      "cell_type": "code",
      "source": [
        "import random # 계좌번호 생성에서 필요한  random library를 호출\n",
        "import time\n",
        "from time import strftime # 내역 저장 시간에서 필요한 time library 호출"
      ],
      "metadata": {
        "id": "LN7jsHU4r_Lb"
      },
      "execution_count": 4,
      "outputs": []
    },
    {
      "cell_type": "code",
      "source": [
        "class Account:\n",
        "\n",
        "  def __init__(self, name, balance): # init 메서드 - 예금주, 초기 잔액 입력\n",
        "    self.name = name # 예금주\n",
        "    self.balance = balance # 잔액\n",
        "    self.bank = 'SC은행' # 은행 이름\n",
        "    self.deposit_count = 0 # 입금 횟수\n",
        "\n",
        "    self.deposit_log_list = []\n",
        "    self.withdraw_log_list = []\n",
        "    self.all_log_list = [] # 입금, 출금 내역 저장 list 정의\n",
        "\n",
        "    num1 = random.randint(0, 999)\n",
        "    num2 = random.randint(0, 99)\n",
        "    num3 = random.randint(0, 999999) # 계좌번호 랜덤 생성\n",
        "\n",
        "    num1 = str(num1).zfill(3)\n",
        "    num2 = str(num2).zfill(2)\n",
        "    num3 = str(num3).zfill(6) # 계좌번호 빈칸 0으로 채우기\n",
        "\n",
        "    self.my_account = num1 + '-' + num2 + '-' + num3 # 계좌번호 정의\n",
        "\n",
        "  def deposit(self, amount): # 입금 메서드\n",
        "    if amount >= 1: # 입금값이 1 이상이어야 입금 가능\n",
        "      tm = strftime('%Y-%m-%d %I:%M:%S %p', time.localtime(time.time())) # 시간 '2024-01-08 03:28:04 AM' 형식으로 저장\n",
        "      self.deposit_log_list.append([tm, amount]) # 입금 내역 list에 시간, 입금액 추가\n",
        "      self.all_log_list.append([tm, amount, \"deposit\"]) # 전체 내역 list에 시간, 입금액, 입금 표시 추가\n",
        "      self.balance = self.balance + amount # 잔고 갱신\n",
        "      self.deposit_count = self.deposit_count + 1 # 입금 횟수 갱신\n",
        "      if self.deposit_count % 5 == 0:\n",
        "        self.balance = self.balance * 1.01 # 입금 횟수가 5회마다 1% 이자 추가\n",
        "\n",
        "  def withdraw(self, amount): # 출금 메서드\n",
        "    if self.balance > amount: # 출금값이 잔고보다 작아야 출금 가능\n",
        "      tm = strftime('%Y-%m-%d %I:%M:%S %p', time.localtime(time.time()))\n",
        "      self.withdraw_log_list.append([tm, amount]) # 출금 내역 list에 시간, 출금액 추가\n",
        "      self.all_log_list.append([tm, amount, \"withdraw\"]) # 전체 내역 list에 시간, 출금액, 출금 표시 추가\n",
        "      self.balance = self.balance - amount # 잔고 갱신\n",
        "\n",
        "  def display_info(self): # 정보 출력 메서드\n",
        "    print(\"---------- Account Info ----------\") # 출력 정보 표시\n",
        "    print(\"은행이름:\", self.bank)\n",
        "    print(\"예금주:\", self.name)\n",
        "    print(\"계좌번호:\", self.my_account)\n",
        "    print(\"잔고:\", f\"{self.balance:,}원\") # 잔고 세자리수마다 쉼표 출력\n",
        "    print(\"----------------------------------\")\n",
        "\n",
        "  def deposit_history(self): # 입금 내역 메서드\n",
        "    print(\"---------- Deposit History ----------\")\n",
        "    for deposit_log in self.deposit_log_list:\n",
        "      print(deposit_log)\n",
        "    print(\"-------------------------------------\")\n",
        "\n",
        "  def withdraw_history(self): # 출금 내역 메서드\n",
        "    print(\"---------- Withdraw History ----------\")\n",
        "    for withdraw_log in self.withdraw_log_list:\n",
        "      print(withdraw_log)\n",
        "    print(\"--------------------------------------\")\n",
        "\n",
        "  def all_history(self): # 전체 내역 메서드\n",
        "    print(\"------------------ All History ------------------\")\n",
        "    for all_log in self.all_log_list:\n",
        "      print(all_log)\n",
        "    print(\"-------------------------------------------------\")\n",
        "\n",
        "  def all_withdraw(self): # 전액 출금 메서드(new!) -  전체 잔고를 다 출금하고 계좌 정보 표시\n",
        "    print(f\"전체 잔고는 {self.balance:,}원입니다. 전액 출금을 진행하겠습니다.\")\n",
        "    amount = self.balance # 출금액 = 전체 잔고\n",
        "    self.withdraw(amount) # 전액 출금\n",
        "    print(f\"전액 출금 완료했습니다.\")\n",
        "    self.display_info()"
      ],
      "metadata": {
        "id": "4uH9LlDpoQde"
      },
      "execution_count": 5,
      "outputs": []
    },
    {
      "cell_type": "code",
      "source": [
        "def make_account(): # 예금주, 초기 잔액 입력 함수\n",
        "  name =  input(\"예금주를 입력하세요.\")\n",
        "  balance = int(input(\"초기 잔액을 입력하세요.\")) # input값 int(정수형)로 저장\n",
        "  return name, balance"
      ],
      "metadata": {
        "id": "cR9qVbAB_SKU"
      },
      "execution_count": 6,
      "outputs": []
    },
    {
      "cell_type": "code",
      "source": [
        "# 입력한 예금주와 잔액을 반환한다\n",
        "[name, balance] = make_account()\n",
        "\n",
        "# myaccount를 Account 클래스로부터 인스턴스 객체로 만들어 변수를 name, balance로 받는다\n",
        "myaccount = Account(name, balance)"
      ],
      "metadata": {
        "id": "cpNqO18iBfFF",
        "colab": {
          "base_uri": "https://localhost:8080/"
        },
        "outputId": "0d620884-f140-42b5-f623-25d6adfa356d"
      },
      "execution_count": 9,
      "outputs": [
        {
          "name": "stdout",
          "output_type": "stream",
          "text": [
            "예금주를 입력하세요.hello\n",
            "초기 잔액을 입력하세요.5000\n"
          ]
        }
      ]
    },
    {
      "cell_type": "code",
      "source": [
        "# 계좌 정보를 출력한다\n",
        "myaccount.display_info()"
      ],
      "metadata": {
        "colab": {
          "base_uri": "https://localhost:8080/"
        },
        "id": "XzDGop6Ngby1",
        "outputId": "a17e494a-4965-47fb-bb8f-b25d83f45e7e"
      },
      "execution_count": 10,
      "outputs": [
        {
          "output_type": "stream",
          "name": "stdout",
          "text": [
            "---------- Account Info ----------\n",
            "은행이름: SC은행\n",
            "예금주: hello\n",
            "계좌번호: 242-74-567341\n",
            "잔고: 5,000원\n",
            "----------------------------------\n"
          ]
        }
      ]
    },
    {
      "cell_type": "code",
      "source": [
        "# 입금 1\n",
        "myaccount.deposit(10000)"
      ],
      "metadata": {
        "id": "UjYaHavYgi4d"
      },
      "execution_count": 11,
      "outputs": []
    },
    {
      "cell_type": "code",
      "source": [
        "# 입금 2\n",
        "myaccount.deposit(30000)"
      ],
      "metadata": {
        "id": "jGTSENIkgwlK"
      },
      "execution_count": 12,
      "outputs": []
    },
    {
      "cell_type": "code",
      "source": [
        "# 출금 1\n",
        "myaccount.withdraw(15000)"
      ],
      "metadata": {
        "id": "KHT45245gzbu"
      },
      "execution_count": 13,
      "outputs": []
    },
    {
      "cell_type": "code",
      "source": [
        "# 입금 3\n",
        "myaccount.deposit(5000)"
      ],
      "metadata": {
        "id": "58_VtdHTg-dU"
      },
      "execution_count": 14,
      "outputs": []
    },
    {
      "cell_type": "code",
      "source": [
        "# 출금 2\n",
        "myaccount.withdraw(5000)"
      ],
      "metadata": {
        "id": "xYlg-imnhC46"
      },
      "execution_count": 15,
      "outputs": []
    },
    {
      "cell_type": "code",
      "source": [
        "# 입금 내역 표시\n",
        "myaccount.deposit_history()"
      ],
      "metadata": {
        "colab": {
          "base_uri": "https://localhost:8080/"
        },
        "id": "9eTioVwOhRXi",
        "outputId": "713d7d01-a0dc-4141-f0d2-850aab5281e5"
      },
      "execution_count": 16,
      "outputs": [
        {
          "output_type": "stream",
          "name": "stdout",
          "text": [
            "---------- Deposit History ----------\n",
            "['2024-01-08 05:23:51 AM', 10000]\n",
            "['2024-01-08 05:23:53 AM', 30000]\n",
            "['2024-01-08 05:23:54 AM', 5000]\n",
            "-------------------------------------\n"
          ]
        }
      ]
    },
    {
      "cell_type": "code",
      "source": [
        "# 출금 내역 표시\n",
        "myaccount.withdraw_history()"
      ],
      "metadata": {
        "colab": {
          "base_uri": "https://localhost:8080/"
        },
        "id": "JWdJ1uYOhUgp",
        "outputId": "a2f3f602-ea91-4b67-a370-882a3bf2b305"
      },
      "execution_count": 17,
      "outputs": [
        {
          "output_type": "stream",
          "name": "stdout",
          "text": [
            "---------- Withdraw History ----------\n",
            "['2024-01-08 05:23:53 AM', 15000]\n",
            "['2024-01-08 05:23:56 AM', 5000]\n",
            "--------------------------------------\n"
          ]
        }
      ]
    },
    {
      "cell_type": "code",
      "source": [
        "# 전체 내역 표시\n",
        "myaccount.all_history()"
      ],
      "metadata": {
        "colab": {
          "base_uri": "https://localhost:8080/"
        },
        "id": "SAQEWrKZhcjz",
        "outputId": "7f51dda0-9860-4791-f622-26235a649d15"
      },
      "execution_count": 18,
      "outputs": [
        {
          "output_type": "stream",
          "name": "stdout",
          "text": [
            "------------------ All History ------------------\n",
            "['2024-01-08 05:23:51 AM', 10000, 'deposit']\n",
            "['2024-01-08 05:23:53 AM', 30000, 'deposit']\n",
            "['2024-01-08 05:23:53 AM', 15000, 'withdraw']\n",
            "['2024-01-08 05:23:54 AM', 5000, 'deposit']\n",
            "['2024-01-08 05:23:56 AM', 5000, 'withdraw']\n",
            "-------------------------------------------------\n"
          ]
        }
      ]
    },
    {
      "cell_type": "code",
      "source": [
        "# 전액 출금\n",
        "myaccount.all_withdraw()"
      ],
      "metadata": {
        "colab": {
          "base_uri": "https://localhost:8080/"
        },
        "id": "OWAxBSYJhe95",
        "outputId": "b85b6baa-83e3-4f17-82e0-55b4fb8741c8"
      },
      "execution_count": 19,
      "outputs": [
        {
          "output_type": "stream",
          "name": "stdout",
          "text": [
            "전체 잔고는 30,000원입니다. 전액 출금을 진행하겠습니다.\n",
            "전액 출금 완료했습니다.\n",
            "---------- Account Info ----------\n",
            "은행이름: SC은행\n",
            "예금주: hello\n",
            "계좌번호: 242-74-567341\n",
            "잔고: 30,000원\n",
            "----------------------------------\n"
          ]
        }
      ]
    },
    {
      "cell_type": "markdown",
      "source": [
        "<회고>   \n",
        "양동영 :\n",
        "함께 코드를 짜다보니 의견을 맞춰가는 방식이 어색했지만 서로 의견 충돌 없이 전체적인 틀을 잡는데 큰 문제 없이 잘 진행되었던 것 같아요.\n",
        "아쉬운 점은 진행하며 시간이 부족하여 디테일한 부분들 더 채우지 못한 것이 아쉬웠어요.\n",
        "\n",
        "\n",
        "이지현  : 네비게이터와 실행자 관계로 이루어져있어서 같이 합심한다는 느낌이 들어서\n",
        "좋았습니다. 시간이 부족했지만, 서로 서로 보완을 해주셔서 좋았습니다.\n",
        "코드 하나씩 만들어가고 생각대로 잘 실행되었을 때 즐거웠습니다.  \n",
        "시간이 더 있었으면 추가적인 부분들 더 생각했을텐데 아쉽네요.\n",
        "\n",
        "\n",
        "왕예빈 : 혼자 코드를 작성할 때보다 설명을 하면서 코드를 작성하고 에러들을 같이 읽고 해결해보니 스스로도 이해하는 데 도움이 많이 되었습니다. 또한 혼자서만 작성을 할 때 떠올릴 수 없었던 아이디어도 있어 좀 더 효율적이고 창의적으로 작성할 수 있었습니다.     "
      ],
      "metadata": {
        "id": "sZB6Vf0YJyUh"
      }
    }
  ]
}